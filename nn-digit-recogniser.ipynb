{
 "cells": [
  {
   "cell_type": "code",
   "execution_count": 1,
   "id": "f9bb70ab",
   "metadata": {
    "_cell_guid": "b1076dfc-b9ad-4769-8c92-a6c4dae69d19",
    "_uuid": "8f2839f25d086af736a60e9eeb907d3b93b6e0e5",
    "execution": {
     "iopub.execute_input": "2022-01-28T23:57:29.299343Z",
     "iopub.status.busy": "2022-01-28T23:57:29.298691Z",
     "iopub.status.idle": "2022-01-28T23:57:29.304493Z",
     "shell.execute_reply": "2022-01-28T23:57:29.304949Z",
     "shell.execute_reply.started": "2022-01-28T21:05:53.950254Z"
    },
    "papermill": {
     "duration": 0.033394,
     "end_time": "2022-01-28T23:57:29.305172",
     "exception": false,
     "start_time": "2022-01-28T23:57:29.271778",
     "status": "completed"
    },
    "tags": []
   },
   "outputs": [
    {
     "name": "stdout",
     "output_type": "stream",
     "text": [
      "/kaggle/input/digit-recognizer/sample_submission.csv\n",
      "/kaggle/input/digit-recognizer/train.csv\n",
      "/kaggle/input/digit-recognizer/test.csv\n"
     ]
    }
   ],
   "source": [
    "# This Python 3 environment comes with many helpful analytics libraries installed\n",
    "# It is defined by the kaggle/python Docker image: https://github.com/kaggle/docker-python\n",
    "# For example, here's several helpful packages to load\n",
    "\n",
    "import numpy as np # linear algebra\n",
    "import pandas as pd # data processing, CSV file I/O (e.g. pd.read_csv)\n",
    "\n",
    "# Input data files are available in the read-only \"../input/\" directory\n",
    "# For example, running this (by clicking run or pressing Shift+Enter) will list all files under the input directory\n",
    "\n",
    "import os\n",
    "for dirname, _, filenames in os.walk('/kaggle/input'):\n",
    "    for filename in filenames:\n",
    "        print(os.path.join(dirname, filename))\n",
    "\n",
    "# You can write up to 20GB to the current directory (/kaggle/working/) that gets preserved as output when you create a version using \"Save & Run All\" \n",
    "# You can also write temporary files to /kaggle/temp/, but they won't be saved outside of the current session"
   ]
  },
  {
   "cell_type": "code",
   "execution_count": 2,
   "id": "073a61f4",
   "metadata": {
    "execution": {
     "iopub.execute_input": "2022-01-28T23:57:29.341815Z",
     "iopub.status.busy": "2022-01-28T23:57:29.341137Z",
     "iopub.status.idle": "2022-01-28T23:57:35.135612Z",
     "shell.execute_reply": "2022-01-28T23:57:35.135109Z"
    },
    "papermill": {
     "duration": 5.813872,
     "end_time": "2022-01-28T23:57:35.135749",
     "exception": false,
     "start_time": "2022-01-28T23:57:29.321877",
     "status": "completed"
    },
    "tags": []
   },
   "outputs": [],
   "source": [
    "from keras.utils.np_utils import to_categorical\n",
    "from tensorflow import keras\n",
    "from tensorflow.keras import layers\n",
    "import pandas as pd\n",
    "from keras.layers import Dropout\n",
    "from keras.layers import Flatten\n",
    "from keras.layers.convolutional import Conv1D\n",
    "from keras.layers.convolutional import MaxPooling1D\n",
    "from keras.layers.convolutional import Conv2D\n",
    "from keras.layers.convolutional import MaxPooling2D\n",
    "import matplotlib.pyplot as plt\n",
    "import matplotlib.image as mpimg\n",
    "import seaborn as sns"
   ]
  },
  {
   "cell_type": "code",
   "execution_count": 3,
   "id": "f222f385",
   "metadata": {
    "execution": {
     "iopub.execute_input": "2022-01-28T23:57:35.168670Z",
     "iopub.status.busy": "2022-01-28T23:57:35.167377Z",
     "iopub.status.idle": "2022-01-28T23:57:40.179164Z",
     "shell.execute_reply": "2022-01-28T23:57:40.179602Z",
     "shell.execute_reply.started": "2022-01-28T21:05:53.985309Z"
    },
    "papermill": {
     "duration": 5.029524,
     "end_time": "2022-01-28T23:57:40.179775",
     "exception": false,
     "start_time": "2022-01-28T23:57:35.150251",
     "status": "completed"
    },
    "tags": []
   },
   "outputs": [],
   "source": [
    "train = pd.read_csv(\"/kaggle/input/digit-recognizer/train.csv\")\n",
    "test = pd.read_csv(\"/kaggle/input/digit-recognizer/test.csv\")\n",
    "sample = pd.read_csv(\"/kaggle/input/digit-recognizer/sample_submission.csv\")"
   ]
  },
  {
   "cell_type": "code",
   "execution_count": 4,
   "id": "98c4a0cf",
   "metadata": {
    "execution": {
     "iopub.execute_input": "2022-01-28T23:57:40.217943Z",
     "iopub.status.busy": "2022-01-28T23:57:40.217212Z",
     "iopub.status.idle": "2022-01-28T23:57:40.234571Z",
     "shell.execute_reply": "2022-01-28T23:57:40.234999Z",
     "shell.execute_reply.started": "2022-01-27T22:27:40.615093Z"
    },
    "papermill": {
     "duration": 0.040509,
     "end_time": "2022-01-28T23:57:40.235145",
     "exception": false,
     "start_time": "2022-01-28T23:57:40.194636",
     "status": "completed"
    },
    "tags": []
   },
   "outputs": [
    {
     "data": {
      "text/html": [
       "<div>\n",
       "<style scoped>\n",
       "    .dataframe tbody tr th:only-of-type {\n",
       "        vertical-align: middle;\n",
       "    }\n",
       "\n",
       "    .dataframe tbody tr th {\n",
       "        vertical-align: top;\n",
       "    }\n",
       "\n",
       "    .dataframe thead th {\n",
       "        text-align: right;\n",
       "    }\n",
       "</style>\n",
       "<table border=\"1\" class=\"dataframe\">\n",
       "  <thead>\n",
       "    <tr style=\"text-align: right;\">\n",
       "      <th></th>\n",
       "      <th>label</th>\n",
       "      <th>pixel0</th>\n",
       "      <th>pixel1</th>\n",
       "      <th>pixel2</th>\n",
       "      <th>pixel3</th>\n",
       "      <th>pixel4</th>\n",
       "      <th>pixel5</th>\n",
       "      <th>pixel6</th>\n",
       "      <th>pixel7</th>\n",
       "      <th>pixel8</th>\n",
       "      <th>...</th>\n",
       "      <th>pixel774</th>\n",
       "      <th>pixel775</th>\n",
       "      <th>pixel776</th>\n",
       "      <th>pixel777</th>\n",
       "      <th>pixel778</th>\n",
       "      <th>pixel779</th>\n",
       "      <th>pixel780</th>\n",
       "      <th>pixel781</th>\n",
       "      <th>pixel782</th>\n",
       "      <th>pixel783</th>\n",
       "    </tr>\n",
       "  </thead>\n",
       "  <tbody>\n",
       "    <tr>\n",
       "      <th>0</th>\n",
       "      <td>1</td>\n",
       "      <td>0</td>\n",
       "      <td>0</td>\n",
       "      <td>0</td>\n",
       "      <td>0</td>\n",
       "      <td>0</td>\n",
       "      <td>0</td>\n",
       "      <td>0</td>\n",
       "      <td>0</td>\n",
       "      <td>0</td>\n",
       "      <td>...</td>\n",
       "      <td>0</td>\n",
       "      <td>0</td>\n",
       "      <td>0</td>\n",
       "      <td>0</td>\n",
       "      <td>0</td>\n",
       "      <td>0</td>\n",
       "      <td>0</td>\n",
       "      <td>0</td>\n",
       "      <td>0</td>\n",
       "      <td>0</td>\n",
       "    </tr>\n",
       "    <tr>\n",
       "      <th>1</th>\n",
       "      <td>0</td>\n",
       "      <td>0</td>\n",
       "      <td>0</td>\n",
       "      <td>0</td>\n",
       "      <td>0</td>\n",
       "      <td>0</td>\n",
       "      <td>0</td>\n",
       "      <td>0</td>\n",
       "      <td>0</td>\n",
       "      <td>0</td>\n",
       "      <td>...</td>\n",
       "      <td>0</td>\n",
       "      <td>0</td>\n",
       "      <td>0</td>\n",
       "      <td>0</td>\n",
       "      <td>0</td>\n",
       "      <td>0</td>\n",
       "      <td>0</td>\n",
       "      <td>0</td>\n",
       "      <td>0</td>\n",
       "      <td>0</td>\n",
       "    </tr>\n",
       "    <tr>\n",
       "      <th>2</th>\n",
       "      <td>1</td>\n",
       "      <td>0</td>\n",
       "      <td>0</td>\n",
       "      <td>0</td>\n",
       "      <td>0</td>\n",
       "      <td>0</td>\n",
       "      <td>0</td>\n",
       "      <td>0</td>\n",
       "      <td>0</td>\n",
       "      <td>0</td>\n",
       "      <td>...</td>\n",
       "      <td>0</td>\n",
       "      <td>0</td>\n",
       "      <td>0</td>\n",
       "      <td>0</td>\n",
       "      <td>0</td>\n",
       "      <td>0</td>\n",
       "      <td>0</td>\n",
       "      <td>0</td>\n",
       "      <td>0</td>\n",
       "      <td>0</td>\n",
       "    </tr>\n",
       "    <tr>\n",
       "      <th>3</th>\n",
       "      <td>4</td>\n",
       "      <td>0</td>\n",
       "      <td>0</td>\n",
       "      <td>0</td>\n",
       "      <td>0</td>\n",
       "      <td>0</td>\n",
       "      <td>0</td>\n",
       "      <td>0</td>\n",
       "      <td>0</td>\n",
       "      <td>0</td>\n",
       "      <td>...</td>\n",
       "      <td>0</td>\n",
       "      <td>0</td>\n",
       "      <td>0</td>\n",
       "      <td>0</td>\n",
       "      <td>0</td>\n",
       "      <td>0</td>\n",
       "      <td>0</td>\n",
       "      <td>0</td>\n",
       "      <td>0</td>\n",
       "      <td>0</td>\n",
       "    </tr>\n",
       "    <tr>\n",
       "      <th>4</th>\n",
       "      <td>0</td>\n",
       "      <td>0</td>\n",
       "      <td>0</td>\n",
       "      <td>0</td>\n",
       "      <td>0</td>\n",
       "      <td>0</td>\n",
       "      <td>0</td>\n",
       "      <td>0</td>\n",
       "      <td>0</td>\n",
       "      <td>0</td>\n",
       "      <td>...</td>\n",
       "      <td>0</td>\n",
       "      <td>0</td>\n",
       "      <td>0</td>\n",
       "      <td>0</td>\n",
       "      <td>0</td>\n",
       "      <td>0</td>\n",
       "      <td>0</td>\n",
       "      <td>0</td>\n",
       "      <td>0</td>\n",
       "      <td>0</td>\n",
       "    </tr>\n",
       "  </tbody>\n",
       "</table>\n",
       "<p>5 rows × 785 columns</p>\n",
       "</div>"
      ],
      "text/plain": [
       "   label  pixel0  pixel1  pixel2  pixel3  pixel4  pixel5  pixel6  pixel7  \\\n",
       "0      1       0       0       0       0       0       0       0       0   \n",
       "1      0       0       0       0       0       0       0       0       0   \n",
       "2      1       0       0       0       0       0       0       0       0   \n",
       "3      4       0       0       0       0       0       0       0       0   \n",
       "4      0       0       0       0       0       0       0       0       0   \n",
       "\n",
       "   pixel8  ...  pixel774  pixel775  pixel776  pixel777  pixel778  pixel779  \\\n",
       "0       0  ...         0         0         0         0         0         0   \n",
       "1       0  ...         0         0         0         0         0         0   \n",
       "2       0  ...         0         0         0         0         0         0   \n",
       "3       0  ...         0         0         0         0         0         0   \n",
       "4       0  ...         0         0         0         0         0         0   \n",
       "\n",
       "   pixel780  pixel781  pixel782  pixel783  \n",
       "0         0         0         0         0  \n",
       "1         0         0         0         0  \n",
       "2         0         0         0         0  \n",
       "3         0         0         0         0  \n",
       "4         0         0         0         0  \n",
       "\n",
       "[5 rows x 785 columns]"
      ]
     },
     "execution_count": 4,
     "metadata": {},
     "output_type": "execute_result"
    }
   ],
   "source": [
    "train.head()"
   ]
  },
  {
   "cell_type": "code",
   "execution_count": 5,
   "id": "ff7465a1",
   "metadata": {
    "execution": {
     "iopub.execute_input": "2022-01-28T23:57:40.271891Z",
     "iopub.status.busy": "2022-01-28T23:57:40.267810Z",
     "iopub.status.idle": "2022-01-28T23:57:42.397267Z",
     "shell.execute_reply": "2022-01-28T23:57:42.398027Z",
     "shell.execute_reply.started": "2022-01-28T21:29:48.920759Z"
    },
    "papermill": {
     "duration": 2.148383,
     "end_time": "2022-01-28T23:57:42.398197",
     "exception": false,
     "start_time": "2022-01-28T23:57:40.249814",
     "status": "completed"
    },
    "tags": []
   },
   "outputs": [
    {
     "data": {
      "text/html": [
       "<div>\n",
       "<style scoped>\n",
       "    .dataframe tbody tr th:only-of-type {\n",
       "        vertical-align: middle;\n",
       "    }\n",
       "\n",
       "    .dataframe tbody tr th {\n",
       "        vertical-align: top;\n",
       "    }\n",
       "\n",
       "    .dataframe thead th {\n",
       "        text-align: right;\n",
       "    }\n",
       "</style>\n",
       "<table border=\"1\" class=\"dataframe\">\n",
       "  <thead>\n",
       "    <tr style=\"text-align: right;\">\n",
       "      <th></th>\n",
       "      <th>label</th>\n",
       "      <th>pixel0</th>\n",
       "      <th>pixel1</th>\n",
       "      <th>pixel2</th>\n",
       "      <th>pixel3</th>\n",
       "      <th>pixel4</th>\n",
       "      <th>pixel5</th>\n",
       "      <th>pixel6</th>\n",
       "      <th>pixel7</th>\n",
       "      <th>pixel8</th>\n",
       "      <th>...</th>\n",
       "      <th>pixel774</th>\n",
       "      <th>pixel775</th>\n",
       "      <th>pixel776</th>\n",
       "      <th>pixel777</th>\n",
       "      <th>pixel778</th>\n",
       "      <th>pixel779</th>\n",
       "      <th>pixel780</th>\n",
       "      <th>pixel781</th>\n",
       "      <th>pixel782</th>\n",
       "      <th>pixel783</th>\n",
       "    </tr>\n",
       "  </thead>\n",
       "  <tbody>\n",
       "    <tr>\n",
       "      <th>count</th>\n",
       "      <td>42000.000000</td>\n",
       "      <td>42000.0</td>\n",
       "      <td>42000.0</td>\n",
       "      <td>42000.0</td>\n",
       "      <td>42000.0</td>\n",
       "      <td>42000.0</td>\n",
       "      <td>42000.0</td>\n",
       "      <td>42000.0</td>\n",
       "      <td>42000.0</td>\n",
       "      <td>42000.0</td>\n",
       "      <td>...</td>\n",
       "      <td>42000.000000</td>\n",
       "      <td>42000.000000</td>\n",
       "      <td>42000.000000</td>\n",
       "      <td>42000.00000</td>\n",
       "      <td>42000.000000</td>\n",
       "      <td>42000.000000</td>\n",
       "      <td>42000.0</td>\n",
       "      <td>42000.0</td>\n",
       "      <td>42000.0</td>\n",
       "      <td>42000.0</td>\n",
       "    </tr>\n",
       "    <tr>\n",
       "      <th>mean</th>\n",
       "      <td>4.456643</td>\n",
       "      <td>0.0</td>\n",
       "      <td>0.0</td>\n",
       "      <td>0.0</td>\n",
       "      <td>0.0</td>\n",
       "      <td>0.0</td>\n",
       "      <td>0.0</td>\n",
       "      <td>0.0</td>\n",
       "      <td>0.0</td>\n",
       "      <td>0.0</td>\n",
       "      <td>...</td>\n",
       "      <td>0.219286</td>\n",
       "      <td>0.117095</td>\n",
       "      <td>0.059024</td>\n",
       "      <td>0.02019</td>\n",
       "      <td>0.017238</td>\n",
       "      <td>0.002857</td>\n",
       "      <td>0.0</td>\n",
       "      <td>0.0</td>\n",
       "      <td>0.0</td>\n",
       "      <td>0.0</td>\n",
       "    </tr>\n",
       "    <tr>\n",
       "      <th>std</th>\n",
       "      <td>2.887730</td>\n",
       "      <td>0.0</td>\n",
       "      <td>0.0</td>\n",
       "      <td>0.0</td>\n",
       "      <td>0.0</td>\n",
       "      <td>0.0</td>\n",
       "      <td>0.0</td>\n",
       "      <td>0.0</td>\n",
       "      <td>0.0</td>\n",
       "      <td>0.0</td>\n",
       "      <td>...</td>\n",
       "      <td>6.312890</td>\n",
       "      <td>4.633819</td>\n",
       "      <td>3.274488</td>\n",
       "      <td>1.75987</td>\n",
       "      <td>1.894498</td>\n",
       "      <td>0.414264</td>\n",
       "      <td>0.0</td>\n",
       "      <td>0.0</td>\n",
       "      <td>0.0</td>\n",
       "      <td>0.0</td>\n",
       "    </tr>\n",
       "    <tr>\n",
       "      <th>min</th>\n",
       "      <td>0.000000</td>\n",
       "      <td>0.0</td>\n",
       "      <td>0.0</td>\n",
       "      <td>0.0</td>\n",
       "      <td>0.0</td>\n",
       "      <td>0.0</td>\n",
       "      <td>0.0</td>\n",
       "      <td>0.0</td>\n",
       "      <td>0.0</td>\n",
       "      <td>0.0</td>\n",
       "      <td>...</td>\n",
       "      <td>0.000000</td>\n",
       "      <td>0.000000</td>\n",
       "      <td>0.000000</td>\n",
       "      <td>0.00000</td>\n",
       "      <td>0.000000</td>\n",
       "      <td>0.000000</td>\n",
       "      <td>0.0</td>\n",
       "      <td>0.0</td>\n",
       "      <td>0.0</td>\n",
       "      <td>0.0</td>\n",
       "    </tr>\n",
       "    <tr>\n",
       "      <th>25%</th>\n",
       "      <td>2.000000</td>\n",
       "      <td>0.0</td>\n",
       "      <td>0.0</td>\n",
       "      <td>0.0</td>\n",
       "      <td>0.0</td>\n",
       "      <td>0.0</td>\n",
       "      <td>0.0</td>\n",
       "      <td>0.0</td>\n",
       "      <td>0.0</td>\n",
       "      <td>0.0</td>\n",
       "      <td>...</td>\n",
       "      <td>0.000000</td>\n",
       "      <td>0.000000</td>\n",
       "      <td>0.000000</td>\n",
       "      <td>0.00000</td>\n",
       "      <td>0.000000</td>\n",
       "      <td>0.000000</td>\n",
       "      <td>0.0</td>\n",
       "      <td>0.0</td>\n",
       "      <td>0.0</td>\n",
       "      <td>0.0</td>\n",
       "    </tr>\n",
       "    <tr>\n",
       "      <th>50%</th>\n",
       "      <td>4.000000</td>\n",
       "      <td>0.0</td>\n",
       "      <td>0.0</td>\n",
       "      <td>0.0</td>\n",
       "      <td>0.0</td>\n",
       "      <td>0.0</td>\n",
       "      <td>0.0</td>\n",
       "      <td>0.0</td>\n",
       "      <td>0.0</td>\n",
       "      <td>0.0</td>\n",
       "      <td>...</td>\n",
       "      <td>0.000000</td>\n",
       "      <td>0.000000</td>\n",
       "      <td>0.000000</td>\n",
       "      <td>0.00000</td>\n",
       "      <td>0.000000</td>\n",
       "      <td>0.000000</td>\n",
       "      <td>0.0</td>\n",
       "      <td>0.0</td>\n",
       "      <td>0.0</td>\n",
       "      <td>0.0</td>\n",
       "    </tr>\n",
       "    <tr>\n",
       "      <th>75%</th>\n",
       "      <td>7.000000</td>\n",
       "      <td>0.0</td>\n",
       "      <td>0.0</td>\n",
       "      <td>0.0</td>\n",
       "      <td>0.0</td>\n",
       "      <td>0.0</td>\n",
       "      <td>0.0</td>\n",
       "      <td>0.0</td>\n",
       "      <td>0.0</td>\n",
       "      <td>0.0</td>\n",
       "      <td>...</td>\n",
       "      <td>0.000000</td>\n",
       "      <td>0.000000</td>\n",
       "      <td>0.000000</td>\n",
       "      <td>0.00000</td>\n",
       "      <td>0.000000</td>\n",
       "      <td>0.000000</td>\n",
       "      <td>0.0</td>\n",
       "      <td>0.0</td>\n",
       "      <td>0.0</td>\n",
       "      <td>0.0</td>\n",
       "    </tr>\n",
       "    <tr>\n",
       "      <th>max</th>\n",
       "      <td>9.000000</td>\n",
       "      <td>0.0</td>\n",
       "      <td>0.0</td>\n",
       "      <td>0.0</td>\n",
       "      <td>0.0</td>\n",
       "      <td>0.0</td>\n",
       "      <td>0.0</td>\n",
       "      <td>0.0</td>\n",
       "      <td>0.0</td>\n",
       "      <td>0.0</td>\n",
       "      <td>...</td>\n",
       "      <td>254.000000</td>\n",
       "      <td>254.000000</td>\n",
       "      <td>253.000000</td>\n",
       "      <td>253.00000</td>\n",
       "      <td>254.000000</td>\n",
       "      <td>62.000000</td>\n",
       "      <td>0.0</td>\n",
       "      <td>0.0</td>\n",
       "      <td>0.0</td>\n",
       "      <td>0.0</td>\n",
       "    </tr>\n",
       "  </tbody>\n",
       "</table>\n",
       "<p>8 rows × 785 columns</p>\n",
       "</div>"
      ],
      "text/plain": [
       "              label   pixel0   pixel1   pixel2   pixel3   pixel4   pixel5  \\\n",
       "count  42000.000000  42000.0  42000.0  42000.0  42000.0  42000.0  42000.0   \n",
       "mean       4.456643      0.0      0.0      0.0      0.0      0.0      0.0   \n",
       "std        2.887730      0.0      0.0      0.0      0.0      0.0      0.0   \n",
       "min        0.000000      0.0      0.0      0.0      0.0      0.0      0.0   \n",
       "25%        2.000000      0.0      0.0      0.0      0.0      0.0      0.0   \n",
       "50%        4.000000      0.0      0.0      0.0      0.0      0.0      0.0   \n",
       "75%        7.000000      0.0      0.0      0.0      0.0      0.0      0.0   \n",
       "max        9.000000      0.0      0.0      0.0      0.0      0.0      0.0   \n",
       "\n",
       "        pixel6   pixel7   pixel8  ...      pixel774      pixel775  \\\n",
       "count  42000.0  42000.0  42000.0  ...  42000.000000  42000.000000   \n",
       "mean       0.0      0.0      0.0  ...      0.219286      0.117095   \n",
       "std        0.0      0.0      0.0  ...      6.312890      4.633819   \n",
       "min        0.0      0.0      0.0  ...      0.000000      0.000000   \n",
       "25%        0.0      0.0      0.0  ...      0.000000      0.000000   \n",
       "50%        0.0      0.0      0.0  ...      0.000000      0.000000   \n",
       "75%        0.0      0.0      0.0  ...      0.000000      0.000000   \n",
       "max        0.0      0.0      0.0  ...    254.000000    254.000000   \n",
       "\n",
       "           pixel776     pixel777      pixel778      pixel779  pixel780  \\\n",
       "count  42000.000000  42000.00000  42000.000000  42000.000000   42000.0   \n",
       "mean       0.059024      0.02019      0.017238      0.002857       0.0   \n",
       "std        3.274488      1.75987      1.894498      0.414264       0.0   \n",
       "min        0.000000      0.00000      0.000000      0.000000       0.0   \n",
       "25%        0.000000      0.00000      0.000000      0.000000       0.0   \n",
       "50%        0.000000      0.00000      0.000000      0.000000       0.0   \n",
       "75%        0.000000      0.00000      0.000000      0.000000       0.0   \n",
       "max      253.000000    253.00000    254.000000     62.000000       0.0   \n",
       "\n",
       "       pixel781  pixel782  pixel783  \n",
       "count   42000.0   42000.0   42000.0  \n",
       "mean        0.0       0.0       0.0  \n",
       "std         0.0       0.0       0.0  \n",
       "min         0.0       0.0       0.0  \n",
       "25%         0.0       0.0       0.0  \n",
       "50%         0.0       0.0       0.0  \n",
       "75%         0.0       0.0       0.0  \n",
       "max         0.0       0.0       0.0  \n",
       "\n",
       "[8 rows x 785 columns]"
      ]
     },
     "execution_count": 5,
     "metadata": {},
     "output_type": "execute_result"
    }
   ],
   "source": [
    "train.describe()"
   ]
  },
  {
   "cell_type": "code",
   "execution_count": 6,
   "id": "009abcd9",
   "metadata": {
    "execution": {
     "iopub.execute_input": "2022-01-28T23:57:42.451767Z",
     "iopub.status.busy": "2022-01-28T23:57:42.441097Z",
     "iopub.status.idle": "2022-01-28T23:57:42.475211Z",
     "shell.execute_reply": "2022-01-28T23:57:42.474631Z",
     "shell.execute_reply.started": "2022-01-27T22:27:42.580187Z"
    },
    "papermill": {
     "duration": 0.060726,
     "end_time": "2022-01-28T23:57:42.475342",
     "exception": false,
     "start_time": "2022-01-28T23:57:42.414616",
     "status": "completed"
    },
    "tags": []
   },
   "outputs": [
    {
     "name": "stdout",
     "output_type": "stream",
     "text": [
      "<class 'pandas.core.frame.DataFrame'>\n",
      "RangeIndex: 42000 entries, 0 to 41999\n",
      "Columns: 785 entries, label to pixel783\n",
      "dtypes: int64(785)\n",
      "memory usage: 251.5 MB\n"
     ]
    }
   ],
   "source": [
    "train.info()"
   ]
  },
  {
   "cell_type": "code",
   "execution_count": 7,
   "id": "48f1f1bc",
   "metadata": {
    "execution": {
     "iopub.execute_input": "2022-01-28T23:57:42.546439Z",
     "iopub.status.busy": "2022-01-28T23:57:42.538053Z",
     "iopub.status.idle": "2022-01-28T23:57:42.551361Z",
     "shell.execute_reply": "2022-01-28T23:57:42.551986Z",
     "shell.execute_reply.started": "2022-01-27T22:27:42.625533Z"
    },
    "papermill": {
     "duration": 0.061226,
     "end_time": "2022-01-28T23:57:42.552181",
     "exception": false,
     "start_time": "2022-01-28T23:57:42.490955",
     "status": "completed"
    },
    "tags": []
   },
   "outputs": [
    {
     "name": "stdout",
     "output_type": "stream",
     "text": [
      "<class 'pandas.core.frame.DataFrame'>\n",
      "RangeIndex: 28000 entries, 0 to 27999\n",
      "Columns: 784 entries, pixel0 to pixel783\n",
      "dtypes: int64(784)\n",
      "memory usage: 167.5 MB\n"
     ]
    }
   ],
   "source": [
    "test.info()"
   ]
  },
  {
   "cell_type": "code",
   "execution_count": 8,
   "id": "9daf6210",
   "metadata": {
    "execution": {
     "iopub.execute_input": "2022-01-28T23:57:42.590552Z",
     "iopub.status.busy": "2022-01-28T23:57:42.589296Z",
     "iopub.status.idle": "2022-01-28T23:57:42.948019Z",
     "shell.execute_reply": "2022-01-28T23:57:42.947469Z",
     "shell.execute_reply.started": "2022-01-28T21:07:04.193765Z"
    },
    "papermill": {
     "duration": 0.37967,
     "end_time": "2022-01-28T23:57:42.948156",
     "exception": false,
     "start_time": "2022-01-28T23:57:42.568486",
     "status": "completed"
    },
    "tags": []
   },
   "outputs": [],
   "source": [
    "X = train.copy()\n",
    "y = X.pop(\"label\")\n",
    "X = X/255\n",
    "y = to_categorical(y, 10)"
   ]
  },
  {
   "cell_type": "code",
   "execution_count": 9,
   "id": "fda9aa14",
   "metadata": {
    "execution": {
     "iopub.execute_input": "2022-01-28T23:57:42.988535Z",
     "iopub.status.busy": "2022-01-28T23:57:42.987599Z",
     "iopub.status.idle": "2022-01-28T23:57:42.990907Z",
     "shell.execute_reply": "2022-01-28T23:57:42.990437Z",
     "shell.execute_reply.started": "2022-01-27T22:27:47.237314Z"
    },
    "papermill": {
     "duration": 0.025859,
     "end_time": "2022-01-28T23:57:42.991042",
     "exception": false,
     "start_time": "2022-01-28T23:57:42.965183",
     "status": "completed"
    },
    "tags": []
   },
   "outputs": [
    {
     "data": {
      "text/plain": [
       "'\\nfrom sklearn.feature_selection import mutual_info_classif\\n\\ndef make_mi_scores(X, y):\\n    mi_scores = mutual_info_classif(X, y)\\n    mi_scores = pd.Series(mi_scores, name=\"MI Scores\", index=X.columns)\\n    mi_scores = mi_scores.sort_values(ascending=False)\\n    return mi_scores\\n\\nmi_scores = make_mi_scores(X, train.pop(\"label\"))\\nmi_scores[::3]  # show a few features with their MI scores\\n\\n\\nmi_scores.describe()\\n\\n\\nmi_scores.plot() #Seems to be three distinct sets of pixels from the graph. \\n'"
      ]
     },
     "execution_count": 9,
     "metadata": {},
     "output_type": "execute_result"
    }
   ],
   "source": [
    "\"\"\"\n",
    "from sklearn.feature_selection import mutual_info_classif\n",
    "\n",
    "def make_mi_scores(X, y):\n",
    "    mi_scores = mutual_info_classif(X, y)\n",
    "    mi_scores = pd.Series(mi_scores, name=\"MI Scores\", index=X.columns)\n",
    "    mi_scores = mi_scores.sort_values(ascending=False)\n",
    "    return mi_scores\n",
    "\n",
    "mi_scores = make_mi_scores(X, train.pop(\"label\"))\n",
    "mi_scores[::3]  # show a few features with their MI scores\n",
    "\n",
    "\n",
    "mi_scores.describe()\n",
    "\n",
    "\n",
    "mi_scores.plot() #Seems to be three distinct sets of pixels from the graph. \n",
    "\"\"\""
   ]
  },
  {
   "cell_type": "code",
   "execution_count": 10,
   "id": "65c625e4",
   "metadata": {
    "execution": {
     "iopub.execute_input": "2022-01-28T23:57:43.031882Z",
     "iopub.status.busy": "2022-01-28T23:57:43.030958Z",
     "iopub.status.idle": "2022-01-28T23:57:43.033152Z",
     "shell.execute_reply": "2022-01-28T23:57:43.033551Z",
     "shell.execute_reply.started": "2022-01-28T21:07:19.923452Z"
    },
    "papermill": {
     "duration": 0.02584,
     "end_time": "2022-01-28T23:57:43.033772",
     "exception": false,
     "start_time": "2022-01-28T23:57:43.007932",
     "status": "completed"
    },
    "tags": []
   },
   "outputs": [],
   "source": [
    "X_train = X[:35000]\n",
    "X_valid = X[35000:]\n",
    "y_train = y[:35000]\n",
    "y_valid = y[35000:]"
   ]
  },
  {
   "cell_type": "code",
   "execution_count": 11,
   "id": "e525d174",
   "metadata": {
    "execution": {
     "iopub.execute_input": "2022-01-28T23:57:43.077235Z",
     "iopub.status.busy": "2022-01-28T23:57:43.076650Z",
     "iopub.status.idle": "2022-01-28T23:57:52.233767Z",
     "shell.execute_reply": "2022-01-28T23:57:52.233256Z",
     "shell.execute_reply.started": "2022-01-27T22:27:47.257206Z"
    },
    "papermill": {
     "duration": 9.182883,
     "end_time": "2022-01-28T23:57:52.233899",
     "exception": false,
     "start_time": "2022-01-28T23:57:43.051016",
     "status": "completed"
    },
    "tags": []
   },
   "outputs": [
    {
     "name": "stderr",
     "output_type": "stream",
     "text": [
      "2022-01-28 23:57:43.155616: I tensorflow/stream_executor/cuda/cuda_gpu_executor.cc:937] successful NUMA node read from SysFS had negative value (-1), but there must be at least one NUMA node, so returning NUMA node zero\n",
      "2022-01-28 23:57:43.254237: I tensorflow/stream_executor/cuda/cuda_gpu_executor.cc:937] successful NUMA node read from SysFS had negative value (-1), but there must be at least one NUMA node, so returning NUMA node zero\n",
      "2022-01-28 23:57:43.255007: I tensorflow/stream_executor/cuda/cuda_gpu_executor.cc:937] successful NUMA node read from SysFS had negative value (-1), but there must be at least one NUMA node, so returning NUMA node zero\n",
      "2022-01-28 23:57:43.256319: I tensorflow/core/platform/cpu_feature_guard.cc:142] This TensorFlow binary is optimized with oneAPI Deep Neural Network Library (oneDNN) to use the following CPU instructions in performance-critical operations:  AVX2 AVX512F FMA\n",
      "To enable them in other operations, rebuild TensorFlow with the appropriate compiler flags.\n",
      "2022-01-28 23:57:43.257394: I tensorflow/stream_executor/cuda/cuda_gpu_executor.cc:937] successful NUMA node read from SysFS had negative value (-1), but there must be at least one NUMA node, so returning NUMA node zero\n",
      "2022-01-28 23:57:43.258131: I tensorflow/stream_executor/cuda/cuda_gpu_executor.cc:937] successful NUMA node read from SysFS had negative value (-1), but there must be at least one NUMA node, so returning NUMA node zero\n",
      "2022-01-28 23:57:43.258773: I tensorflow/stream_executor/cuda/cuda_gpu_executor.cc:937] successful NUMA node read from SysFS had negative value (-1), but there must be at least one NUMA node, so returning NUMA node zero\n",
      "2022-01-28 23:57:45.124249: I tensorflow/stream_executor/cuda/cuda_gpu_executor.cc:937] successful NUMA node read from SysFS had negative value (-1), but there must be at least one NUMA node, so returning NUMA node zero\n",
      "2022-01-28 23:57:45.125077: I tensorflow/stream_executor/cuda/cuda_gpu_executor.cc:937] successful NUMA node read from SysFS had negative value (-1), but there must be at least one NUMA node, so returning NUMA node zero\n",
      "2022-01-28 23:57:45.125742: I tensorflow/stream_executor/cuda/cuda_gpu_executor.cc:937] successful NUMA node read from SysFS had negative value (-1), but there must be at least one NUMA node, so returning NUMA node zero\n",
      "2022-01-28 23:57:45.126321: I tensorflow/core/common_runtime/gpu/gpu_device.cc:1510] Created device /job:localhost/replica:0/task:0/device:GPU:0 with 15403 MB memory:  -> device: 0, name: Tesla P100-PCIE-16GB, pci bus id: 0000:00:04.0, compute capability: 6.0\n",
      "2022-01-28 23:57:46.201298: I tensorflow/compiler/mlir/mlir_graph_optimization_pass.cc:185] None of the MLIR Optimization Passes are enabled (registered 2)\n"
     ]
    },
    {
     "name": "stdout",
     "output_type": "stream",
     "text": [
      "Epoch 1/10\n",
      "7/7 [==============================] - 2s 86ms/step - loss: 1.2677 - categorical_accuracy: 0.6849 - val_loss: 0.4863 - val_categorical_accuracy: 0.8344\n",
      "Epoch 2/10\n",
      "7/7 [==============================] - 0s 34ms/step - loss: 0.4364 - categorical_accuracy: 0.8628 - val_loss: 0.3421 - val_categorical_accuracy: 0.8984\n",
      "Epoch 3/10\n",
      "7/7 [==============================] - 0s 31ms/step - loss: 0.3056 - categorical_accuracy: 0.9101 - val_loss: 0.2532 - val_categorical_accuracy: 0.9236\n",
      "Epoch 4/10\n",
      "7/7 [==============================] - 0s 29ms/step - loss: 0.2321 - categorical_accuracy: 0.9313 - val_loss: 0.2066 - val_categorical_accuracy: 0.9384\n",
      "Epoch 5/10\n",
      "7/7 [==============================] - 0s 29ms/step - loss: 0.1855 - categorical_accuracy: 0.9459 - val_loss: 0.1795 - val_categorical_accuracy: 0.9471\n",
      "Epoch 6/10\n",
      "7/7 [==============================] - 0s 31ms/step - loss: 0.1549 - categorical_accuracy: 0.9546 - val_loss: 0.1597 - val_categorical_accuracy: 0.9529\n",
      "Epoch 7/10\n",
      "7/7 [==============================] - 0s 31ms/step - loss: 0.1297 - categorical_accuracy: 0.9626 - val_loss: 0.1391 - val_categorical_accuracy: 0.9583\n",
      "Epoch 8/10\n",
      "7/7 [==============================] - 0s 31ms/step - loss: 0.1108 - categorical_accuracy: 0.9678 - val_loss: 0.1280 - val_categorical_accuracy: 0.9626\n",
      "Epoch 9/10\n",
      "7/7 [==============================] - 0s 29ms/step - loss: 0.0948 - categorical_accuracy: 0.9734 - val_loss: 0.1165 - val_categorical_accuracy: 0.9644\n",
      "Epoch 10/10\n",
      "7/7 [==============================] - 0s 28ms/step - loss: 0.0793 - categorical_accuracy: 0.9784 - val_loss: 0.1128 - val_categorical_accuracy: 0.9640\n",
      "Best Validation Loss: 0.1128\n",
      "Best Validation Accuracy: 0.9644\n"
     ]
    },
    {
     "data": {
      "image/png": "[encoded data removed]",
      "text/plain": [
       "<Figure size 432x288 with 1 Axes>"
      ]
     },
     "metadata": {
      "needs_background": "light"
     },
     "output_type": "display_data"
    },
    {
     "data": {
      "image/png": "[encoded data removed]",
      "text/plain": [
       "<Figure size 432x288 with 1 Axes>"
      ]
     },
     "metadata": {
      "needs_background": "light"
     },
     "output_type": "display_data"
    }
   ],
   "source": [
    "#First attempt, basic model with 3 hidden layers.\n",
    "\n",
    "model1 = keras.Sequential([\n",
    "    layers.Dense(1024, activation='relu', input_shape=[784]),\n",
    "    layers.Dense(512, activation='relu'),\n",
    "    layers.Dense(512, activation='relu'),\n",
    "    layers.Dense(10, activation='softmax'),\n",
    "])\n",
    "\n",
    "model1.compile(\n",
    "    optimizer='adam',\n",
    "    loss='categorical_crossentropy',\n",
    "    metrics=['categorical_accuracy'],\n",
    "\n",
    ")\n",
    "\n",
    "history1 = model1.fit(\n",
    "    X_train, y_train,\n",
    "    validation_data=(X_valid, y_valid),\n",
    "    batch_size=5000,\n",
    "    epochs=10,\n",
    ")\n",
    "\n",
    "history1_df = pd.DataFrame(history1.history)\n",
    "# Start the plot at epoch 5\n",
    "history1_df.loc[5:, ['loss', 'val_loss']].plot()\n",
    "history1_df.loc[5:, ['categorical_accuracy', 'val_categorical_accuracy']].plot()\n",
    "\n",
    "print((\"Best Validation Loss: {:0.4f}\" +\\\n",
    "      \"\\nBest Validation Accuracy: {:0.4f}\")\\\n",
    "      .format(history1_df['val_loss'].min(), \n",
    "              history1_df['val_categorical_accuracy'].max()))\n",
    "\n",
    "pred1 = model1.predict(test).argmax(axis=-1)\n",
    "pred1 = pred1.tolist()\n",
    "\n",
    "final1 = sample.copy()\n",
    "final1[\"Label\"] = pred1\n",
    "final1.to_csv(\"sub1\", index=False) #092567"
   ]
  },
  {
   "cell_type": "code",
   "execution_count": 12,
   "id": "ee69e3ca",
   "metadata": {
    "execution": {
     "iopub.execute_input": "2022-01-28T23:57:52.309275Z",
     "iopub.status.busy": "2022-01-28T23:57:52.306137Z",
     "iopub.status.idle": "2022-01-28T23:57:58.911845Z",
     "shell.execute_reply": "2022-01-28T23:57:58.911178Z",
     "shell.execute_reply.started": "2022-01-27T22:27:58.475304Z"
    },
    "papermill": {
     "duration": 6.647624,
     "end_time": "2022-01-28T23:57:58.911987",
     "exception": false,
     "start_time": "2022-01-28T23:57:52.264363",
     "status": "completed"
    },
    "tags": []
   },
   "outputs": [
    {
     "name": "stdout",
     "output_type": "stream",
     "text": [
      "Epoch 1/20\n",
      "7/7 [==============================] - 1s 77ms/step - loss: 1.3099 - categorical_accuracy: 0.6617 - val_loss: 0.5351 - val_categorical_accuracy: 0.8211\n",
      "Epoch 2/20\n",
      "7/7 [==============================] - 0s 32ms/step - loss: 0.4281 - categorical_accuracy: 0.8673 - val_loss: 0.3288 - val_categorical_accuracy: 0.9041\n",
      "Epoch 3/20\n",
      "7/7 [==============================] - 0s 30ms/step - loss: 0.3031 - categorical_accuracy: 0.9127 - val_loss: 0.2560 - val_categorical_accuracy: 0.9257\n",
      "Epoch 4/20\n",
      "7/7 [==============================] - 0s 30ms/step - loss: 0.2313 - categorical_accuracy: 0.9323 - val_loss: 0.2072 - val_categorical_accuracy: 0.9404\n",
      "Epoch 5/20\n",
      "7/7 [==============================] - 0s 29ms/step - loss: 0.1844 - categorical_accuracy: 0.9462 - val_loss: 0.1764 - val_categorical_accuracy: 0.9483\n",
      "Epoch 6/20\n",
      "7/7 [==============================] - 0s 29ms/step - loss: 0.1510 - categorical_accuracy: 0.9561 - val_loss: 0.1544 - val_categorical_accuracy: 0.9569\n",
      "Epoch 7/20\n",
      "7/7 [==============================] - 0s 29ms/step - loss: 0.1245 - categorical_accuracy: 0.9643 - val_loss: 0.1386 - val_categorical_accuracy: 0.9604\n",
      "Epoch 8/20\n",
      "7/7 [==============================] - 0s 30ms/step - loss: 0.1045 - categorical_accuracy: 0.9710 - val_loss: 0.1304 - val_categorical_accuracy: 0.9624\n",
      "Epoch 9/20\n",
      "7/7 [==============================] - 0s 28ms/step - loss: 0.0888 - categorical_accuracy: 0.9747 - val_loss: 0.1179 - val_categorical_accuracy: 0.9639\n",
      "Epoch 10/20\n",
      "7/7 [==============================] - 0s 29ms/step - loss: 0.0749 - categorical_accuracy: 0.9793 - val_loss: 0.1093 - val_categorical_accuracy: 0.9666\n",
      "Epoch 11/20\n",
      "7/7 [==============================] - 0s 30ms/step - loss: 0.0628 - categorical_accuracy: 0.9827 - val_loss: 0.1056 - val_categorical_accuracy: 0.9679\n",
      "Epoch 12/20\n",
      "7/7 [==============================] - 0s 30ms/step - loss: 0.0534 - categorical_accuracy: 0.9855 - val_loss: 0.1025 - val_categorical_accuracy: 0.9703\n",
      "Epoch 13/20\n",
      "7/7 [==============================] - 0s 28ms/step - loss: 0.0457 - categorical_accuracy: 0.9878 - val_loss: 0.0996 - val_categorical_accuracy: 0.9694\n",
      "Epoch 14/20\n",
      "7/7 [==============================] - 0s 29ms/step - loss: 0.0391 - categorical_accuracy: 0.9898 - val_loss: 0.0960 - val_categorical_accuracy: 0.9717\n",
      "Epoch 15/20\n",
      "7/7 [==============================] - 0s 29ms/step - loss: 0.0341 - categorical_accuracy: 0.9917 - val_loss: 0.0955 - val_categorical_accuracy: 0.9723\n",
      "Epoch 16/20\n",
      "7/7 [==============================] - 0s 28ms/step - loss: 0.0274 - categorical_accuracy: 0.9936 - val_loss: 0.0898 - val_categorical_accuracy: 0.9730\n",
      "Epoch 17/20\n",
      "7/7 [==============================] - 0s 28ms/step - loss: 0.0227 - categorical_accuracy: 0.9952 - val_loss: 0.0948 - val_categorical_accuracy: 0.9724\n",
      "Epoch 18/20\n",
      "7/7 [==============================] - 0s 29ms/step - loss: 0.0197 - categorical_accuracy: 0.9962 - val_loss: 0.0921 - val_categorical_accuracy: 0.9746\n",
      "Epoch 19/20\n",
      "7/7 [==============================] - 0s 27ms/step - loss: 0.0158 - categorical_accuracy: 0.9973 - val_loss: 0.0893 - val_categorical_accuracy: 0.9747\n",
      "Epoch 20/20\n",
      "7/7 [==============================] - 0s 28ms/step - loss: 0.0127 - categorical_accuracy: 0.9983 - val_loss: 0.0882 - val_categorical_accuracy: 0.9754\n",
      "Best Validation Loss: 0.0882\n",
      "Best Validation Accuracy: 0.9754\n"
     ]
    },
    {
     "data": {
      "image/png": "[encoded data removed]",
      "text/plain": [
       "<Figure size 432x288 with 1 Axes>"
      ]
     },
     "metadata": {
      "needs_background": "light"
     },
     "output_type": "display_data"
    },
    {
     "data": {
      "image/png": "[encoded data removed]",
      "text/plain": [
       "<Figure size 432x288 with 1 Axes>"
      ]
     },
     "metadata": {
      "needs_background": "light"
     },
     "output_type": "display_data"
    }
   ],
   "source": [
    "#From the graphs, seems like we could benefit from running more epochs, so let's try that: \n",
    "\n",
    "model2 = keras.Sequential([\n",
    "    layers.Dense(1024, activation='relu', input_shape=[784]),\n",
    "    layers.Dense(512, activation='relu'),\n",
    "    layers.Dense(512, activation='relu'),\n",
    "    layers.Dense(10, activation='softmax'),\n",
    "])\n",
    "\n",
    "model2.compile(\n",
    "    optimizer='adam',\n",
    "    loss='categorical_crossentropy',\n",
    "    metrics=['categorical_accuracy'],\n",
    "\n",
    ")\n",
    "\n",
    "history2 = model2.fit(\n",
    "    X_train, y_train,\n",
    "    validation_data=(X_valid, y_valid),\n",
    "    batch_size=5000,\n",
    "    epochs=20,\n",
    ")\n",
    "\n",
    "history2_df = pd.DataFrame(history2.history)\n",
    "# Start the plot at epoch 5\n",
    "history2_df.loc[5:, ['loss', 'val_loss']].plot()\n",
    "history2_df.loc[5:, ['categorical_accuracy', 'val_categorical_accuracy']].plot()\n",
    "\n",
    "print((\"Best Validation Loss: {:0.4f}\" +\\\n",
    "      \"\\nBest Validation Accuracy: {:0.4f}\")\\\n",
    "      .format(history2_df['val_loss'].min(), \n",
    "              history2_df['val_categorical_accuracy'].max()))"
   ]
  },
  {
   "cell_type": "code",
   "execution_count": 13,
   "id": "2ec94094",
   "metadata": {
    "execution": {
     "iopub.execute_input": "2022-01-28T23:57:59.043150Z",
     "iopub.status.busy": "2022-01-28T23:57:59.042184Z",
     "iopub.status.idle": "2022-01-28T23:58:07.532442Z",
     "shell.execute_reply": "2022-01-28T23:58:07.531983Z",
     "shell.execute_reply.started": "2022-01-27T22:28:04.038448Z"
    },
    "papermill": {
     "duration": 8.561741,
     "end_time": "2022-01-28T23:58:07.532598",
     "exception": false,
     "start_time": "2022-01-28T23:57:58.970857",
     "status": "completed"
    },
    "tags": []
   },
   "outputs": [
    {
     "name": "stdout",
     "output_type": "stream",
     "text": [
      "Epoch 1/20\n",
      "7/7 [==============================] - 1s 72ms/step - loss: 1.2064 - categorical_accuracy: 0.6535 - val_loss: 0.6746 - val_categorical_accuracy: 0.7727\n",
      "Epoch 2/20\n",
      "7/7 [==============================] - 0s 34ms/step - loss: 0.4778 - categorical_accuracy: 0.8508 - val_loss: 0.3565 - val_categorical_accuracy: 0.8836\n",
      "Epoch 3/20\n",
      "7/7 [==============================] - 0s 34ms/step - loss: 0.2983 - categorical_accuracy: 0.9126 - val_loss: 0.2409 - val_categorical_accuracy: 0.9304\n",
      "Epoch 4/20\n",
      "7/7 [==============================] - 0s 33ms/step - loss: 0.2185 - categorical_accuracy: 0.9342 - val_loss: 0.1870 - val_categorical_accuracy: 0.9456\n",
      "Epoch 5/20\n",
      "7/7 [==============================] - 0s 36ms/step - loss: 0.1700 - categorical_accuracy: 0.9509 - val_loss: 0.1595 - val_categorical_accuracy: 0.9541\n",
      "Epoch 6/20\n",
      "7/7 [==============================] - 0s 33ms/step - loss: 0.1354 - categorical_accuracy: 0.9589 - val_loss: 0.1388 - val_categorical_accuracy: 0.9594\n",
      "Epoch 7/20\n",
      "7/7 [==============================] - 0s 32ms/step - loss: 0.1095 - categorical_accuracy: 0.9684 - val_loss: 0.1227 - val_categorical_accuracy: 0.9649\n",
      "Epoch 8/20\n",
      "7/7 [==============================] - 0s 34ms/step - loss: 0.0903 - categorical_accuracy: 0.9737 - val_loss: 0.1208 - val_categorical_accuracy: 0.9624\n",
      "Epoch 9/20\n",
      "7/7 [==============================] - 0s 34ms/step - loss: 0.0739 - categorical_accuracy: 0.9789 - val_loss: 0.1085 - val_categorical_accuracy: 0.9664\n",
      "Epoch 10/20\n",
      "7/7 [==============================] - 0s 35ms/step - loss: 0.0593 - categorical_accuracy: 0.9835 - val_loss: 0.0977 - val_categorical_accuracy: 0.9687\n",
      "Epoch 11/20\n",
      "7/7 [==============================] - 0s 33ms/step - loss: 0.0480 - categorical_accuracy: 0.9872 - val_loss: 0.0927 - val_categorical_accuracy: 0.9703\n",
      "Epoch 12/20\n",
      "7/7 [==============================] - 0s 35ms/step - loss: 0.0384 - categorical_accuracy: 0.9905 - val_loss: 0.0924 - val_categorical_accuracy: 0.9694\n",
      "Epoch 13/20\n",
      "7/7 [==============================] - 0s 34ms/step - loss: 0.0308 - categorical_accuracy: 0.9928 - val_loss: 0.0882 - val_categorical_accuracy: 0.9720\n",
      "Epoch 14/20\n",
      "7/7 [==============================] - 0s 35ms/step - loss: 0.0247 - categorical_accuracy: 0.9945 - val_loss: 0.0870 - val_categorical_accuracy: 0.9729\n",
      "Epoch 15/20\n",
      "7/7 [==============================] - 0s 33ms/step - loss: 0.0200 - categorical_accuracy: 0.9961 - val_loss: 0.0867 - val_categorical_accuracy: 0.9731\n",
      "Epoch 16/20\n",
      "7/7 [==============================] - 0s 49ms/step - loss: 0.0163 - categorical_accuracy: 0.9969 - val_loss: 0.0848 - val_categorical_accuracy: 0.9749\n",
      "Epoch 17/20\n",
      "7/7 [==============================] - 0s 46ms/step - loss: 0.0123 - categorical_accuracy: 0.9981 - val_loss: 0.0898 - val_categorical_accuracy: 0.9737\n",
      "Epoch 18/20\n",
      "7/7 [==============================] - 0s 60ms/step - loss: 0.0100 - categorical_accuracy: 0.9986 - val_loss: 0.0895 - val_categorical_accuracy: 0.9746\n",
      "Epoch 19/20\n",
      "7/7 [==============================] - 0s 52ms/step - loss: 0.0078 - categorical_accuracy: 0.9992 - val_loss: 0.0894 - val_categorical_accuracy: 0.9763\n",
      "Epoch 20/20\n",
      "7/7 [==============================] - 0s 45ms/step - loss: 0.0061 - categorical_accuracy: 0.9995 - val_loss: 0.0886 - val_categorical_accuracy: 0.9754\n",
      "Best Validation Loss: 0.0848\n",
      "Best Validation Accuracy: 0.9763\n"
     ]
    },
    {
     "data": {
      "image/png": "[encoded data removed]",
      "text/plain": [
       "<Figure size 432x288 with 1 Axes>"
      ]
     },
     "metadata": {
      "needs_background": "light"
     },
     "output_type": "display_data"
    },
    {
     "data": {
      "image/png": "[encoded data removed]",
      "text/plain": [
       "<Figure size 432x288 with 1 Axes>"
      ]
     },
     "metadata": {
      "needs_background": "light"
     },
     "output_type": "display_data"
    }
   ],
   "source": [
    "#Let's try changing the number of nodes in the hidden layers: \n",
    "\n",
    "model3 = keras.Sequential([\n",
    "    layers.Dense(1000, activation='relu', input_shape=[784]),\n",
    "    layers.Dense(1000, activation='relu'),\n",
    "    layers.Dense(1000, activation='relu'),\n",
    "    layers.Dense(10, activation='softmax'),\n",
    "])\n",
    "\n",
    "model3.compile(\n",
    "    optimizer='adam',\n",
    "    loss='categorical_crossentropy',\n",
    "    metrics=['categorical_accuracy'],\n",
    "\n",
    ")\n",
    "\n",
    "history3 = model3.fit(\n",
    "    X_train, y_train,\n",
    "    validation_data=(X_valid, y_valid),\n",
    "    batch_size=5000,\n",
    "    epochs=20,\n",
    ")\n",
    "\n",
    "history3_df = pd.DataFrame(history3.history)\n",
    "# Start the plot at epoch 5\n",
    "history3_df.loc[5:, ['loss', 'val_loss']].plot()\n",
    "history3_df.loc[5:, ['categorical_accuracy', 'val_categorical_accuracy']].plot()\n",
    "\n",
    "print((\"Best Validation Loss: {:0.4f}\" +\\\n",
    "      \"\\nBest Validation Accuracy: {:0.4f}\")\\\n",
    "      .format(history3_df['val_loss'].min(), \n",
    "              history3_df['val_categorical_accuracy'].max()))\n",
    "\n",
    "#Seems to be better, but may be overfit. Let's see how it does with the test set: \n",
    "\n",
    "pred3 = model3.predict(test).argmax(axis=-1)\n",
    "pred3 = pred3.tolist()\n",
    "final3 = sample.copy()\n",
    "final3[\"Label\"] = pred3\n",
    "final3.to_csv(\"sub3\", index=False) #0.94903, best so far."
   ]
  },
  {
   "cell_type": "code",
   "execution_count": 14,
   "id": "177fa5e1",
   "metadata": {
    "execution": {
     "iopub.execute_input": "2022-01-28T23:58:07.714479Z",
     "iopub.status.busy": "2022-01-28T23:58:07.706406Z",
     "iopub.status.idle": "2022-01-28T23:58:14.554197Z",
     "shell.execute_reply": "2022-01-28T23:58:14.553597Z",
     "shell.execute_reply.started": "2022-01-27T22:28:11.75527Z"
    },
    "papermill": {
     "duration": 6.938723,
     "end_time": "2022-01-28T23:58:14.554323",
     "exception": false,
     "start_time": "2022-01-28T23:58:07.615600",
     "status": "completed"
    },
    "tags": []
   },
   "outputs": [
    {
     "name": "stdout",
     "output_type": "stream",
     "text": [
      "Epoch 1/20\n",
      "7/7 [==============================] - 1s 73ms/step - loss: 1.7271 - categorical_accuracy: 0.5108 - val_loss: 0.7740 - val_categorical_accuracy: 0.7663\n",
      "Epoch 2/20\n",
      "7/7 [==============================] - 0s 29ms/step - loss: 0.7372 - categorical_accuracy: 0.7633 - val_loss: 0.4970 - val_categorical_accuracy: 0.8377\n",
      "Epoch 3/20\n",
      "7/7 [==============================] - 0s 26ms/step - loss: 0.4491 - categorical_accuracy: 0.8567 - val_loss: 0.3904 - val_categorical_accuracy: 0.8809\n",
      "Epoch 4/20\n",
      "7/7 [==============================] - 0s 29ms/step - loss: 0.3258 - categorical_accuracy: 0.9024 - val_loss: 0.2797 - val_categorical_accuracy: 0.9164\n",
      "Epoch 5/20\n",
      "7/7 [==============================] - 0s 28ms/step - loss: 0.2526 - categorical_accuracy: 0.9230 - val_loss: 0.2268 - val_categorical_accuracy: 0.9321\n",
      "Epoch 6/20\n",
      "7/7 [==============================] - 0s 27ms/step - loss: 0.2017 - categorical_accuracy: 0.9384 - val_loss: 0.1874 - val_categorical_accuracy: 0.9444\n",
      "Epoch 7/20\n",
      "7/7 [==============================] - 0s 27ms/step - loss: 0.1694 - categorical_accuracy: 0.9497 - val_loss: 0.1644 - val_categorical_accuracy: 0.9481\n",
      "Epoch 8/20\n",
      "7/7 [==============================] - 0s 27ms/step - loss: 0.1413 - categorical_accuracy: 0.9582 - val_loss: 0.1420 - val_categorical_accuracy: 0.9573\n",
      "Epoch 9/20\n",
      "7/7 [==============================] - 0s 26ms/step - loss: 0.1186 - categorical_accuracy: 0.9649 - val_loss: 0.1298 - val_categorical_accuracy: 0.9621\n",
      "Epoch 10/20\n",
      "7/7 [==============================] - 0s 29ms/step - loss: 0.1004 - categorical_accuracy: 0.9704 - val_loss: 0.1196 - val_categorical_accuracy: 0.9639\n",
      "Epoch 11/20\n",
      "7/7 [==============================] - 0s 28ms/step - loss: 0.0836 - categorical_accuracy: 0.9755 - val_loss: 0.1094 - val_categorical_accuracy: 0.9664\n",
      "Epoch 12/20\n",
      "7/7 [==============================] - 0s 29ms/step - loss: 0.0722 - categorical_accuracy: 0.9789 - val_loss: 0.1069 - val_categorical_accuracy: 0.9676\n",
      "Epoch 13/20\n",
      "7/7 [==============================] - 0s 27ms/step - loss: 0.0606 - categorical_accuracy: 0.9831 - val_loss: 0.1011 - val_categorical_accuracy: 0.9689\n",
      "Epoch 14/20\n",
      "7/7 [==============================] - 0s 27ms/step - loss: 0.0513 - categorical_accuracy: 0.9857 - val_loss: 0.1023 - val_categorical_accuracy: 0.9687\n",
      "Epoch 15/20\n",
      "7/7 [==============================] - 0s 27ms/step - loss: 0.0445 - categorical_accuracy: 0.9876 - val_loss: 0.1016 - val_categorical_accuracy: 0.9697\n",
      "Epoch 16/20\n",
      "7/7 [==============================] - 0s 27ms/step - loss: 0.0364 - categorical_accuracy: 0.9902 - val_loss: 0.0949 - val_categorical_accuracy: 0.9713\n",
      "Epoch 17/20\n",
      "7/7 [==============================] - 0s 29ms/step - loss: 0.0305 - categorical_accuracy: 0.9927 - val_loss: 0.1004 - val_categorical_accuracy: 0.9713\n",
      "Epoch 18/20\n",
      "7/7 [==============================] - 0s 29ms/step - loss: 0.0253 - categorical_accuracy: 0.9939 - val_loss: 0.0943 - val_categorical_accuracy: 0.9721\n",
      "Epoch 19/20\n",
      "7/7 [==============================] - 0s 27ms/step - loss: 0.0206 - categorical_accuracy: 0.9950 - val_loss: 0.0943 - val_categorical_accuracy: 0.9729\n",
      "Epoch 20/20\n",
      "7/7 [==============================] - 0s 26ms/step - loss: 0.0160 - categorical_accuracy: 0.9964 - val_loss: 0.1008 - val_categorical_accuracy: 0.9724\n",
      "Best Validation Loss: 0.0943\n",
      "Best Validation Accuracy: 0.9729\n"
     ]
    },
    {
     "data": {
      "image/png": "[encoded data removed]",
      "text/plain": [
       "<Figure size 432x288 with 1 Axes>"
      ]
     },
     "metadata": {
      "needs_background": "light"
     },
     "output_type": "display_data"
    },
    {
     "data": {
      "image/png": "[encoded data removed]",
      "text/plain": [
       "<Figure size 432x288 with 1 Axes>"
      ]
     },
     "metadata": {
      "needs_background": "light"
     },
     "output_type": "display_data"
    }
   ],
   "source": [
    "#Let's try using 6 hidden layers and see what difference that makes. We'll use less nodes per layer.  \n",
    "\n",
    "#POST: Took significantly less time to train compared to previous model and had the same performance on the validation set.\n",
    "\n",
    "model4 = keras.Sequential([\n",
    "    layers.Dense(700, activation='relu', input_shape=[784]),\n",
    "    layers.Dense(300, activation='relu'),\n",
    "    layers.Dense(300, activation='relu'),\n",
    "    layers.Dense(300, activation='relu'),\n",
    "    layers.Dense(300, activation='relu'),\n",
    "    layers.Dense(300, activation='relu'),\n",
    "    layers.Dense(10, activation='softmax'),\n",
    "])\n",
    "\n",
    "model4.compile(\n",
    "    optimizer='adam',\n",
    "    loss='categorical_crossentropy',\n",
    "    metrics=['categorical_accuracy'],\n",
    "\n",
    ")\n",
    "\n",
    "history4 = model4.fit(\n",
    "    X_train, y_train,\n",
    "    validation_data=(X_valid, y_valid),\n",
    "    batch_size=5000,\n",
    "    epochs=20,\n",
    ")\n",
    "\n",
    "history4_df = pd.DataFrame(history4.history)\n",
    "# Start the plot at epoch 5\n",
    "history4_df.loc[5:, ['loss', 'val_loss']].plot()\n",
    "history4_df.loc[5:, ['categorical_accuracy', 'val_categorical_accuracy']].plot()\n",
    "\n",
    "print((\"Best Validation Loss: {:0.4f}\" +\\\n",
    "      \"\\nBest Validation Accuracy: {:0.4f}\")\\\n",
    "      .format(history4_df['val_loss'].min(), \n",
    "              history4_df['val_categorical_accuracy'].max()))\n",
    "\n",
    "pred4 = model4.predict(test).argmax(axis=-1)\n",
    "pred4 = pred4.tolist()\n",
    "final4 = sample.copy()\n",
    "final4[\"Label\"] = pred4\n",
    "final4.to_csv(\"sub4\", index=False) #0.95417, best so far. Seems like more layers with less nodes works better."
   ]
  },
  {
   "cell_type": "code",
   "execution_count": 15,
   "id": "63b68258",
   "metadata": {
    "execution": {
     "iopub.execute_input": "2022-01-28T23:58:14.869261Z",
     "iopub.status.busy": "2022-01-28T23:58:14.868083Z",
     "iopub.status.idle": "2022-01-28T23:58:15.547873Z",
     "shell.execute_reply": "2022-01-28T23:58:15.548478Z",
     "shell.execute_reply.started": "2022-01-28T21:14:05.826913Z"
    },
    "papermill": {
     "duration": 0.883558,
     "end_time": "2022-01-28T23:58:15.548654",
     "exception": false,
     "start_time": "2022-01-28T23:58:14.665096",
     "status": "completed"
    },
    "tags": []
   },
   "outputs": [],
   "source": [
    "\"\"\"\n",
    "Now we will make a more complicated CNN model using convolutional layers as well as some other layers to improve model \n",
    "performance. We will include all of this in a function so that it is easier to recall and adjust.\n",
    "\"\"\"\n",
    "\n",
    "X_2D = train.copy()\n",
    "y_2D = X_2D.pop(\"label\")\n",
    "y_2D = to_categorical(y_2D, num_classes = 10)\n",
    "X_2D = X_2D/255 #Normalisation\n",
    "X_2D = X_2D.values.reshape(-1,28,28,1)\n",
    "\n",
    "test_2D = test.copy()\n",
    "test_2D = test_2D/255 #Normalisation\n",
    "test_2D = test_2D.values.reshape(-1,28,28,1)\n",
    "\n",
    "X_train_2D = X_2D[:35000]\n",
    "X_valid_2D = X_2D[35000:]\n",
    "y_train_2D = y_2D[:35000]\n",
    "y_valid_2D = y_2D[35000:]"
   ]
  },
  {
   "cell_type": "code",
   "execution_count": 16,
   "id": "d5c6849a",
   "metadata": {
    "execution": {
     "iopub.execute_input": "2022-01-28T23:58:15.798409Z",
     "iopub.status.busy": "2022-01-28T23:58:15.797390Z",
     "iopub.status.idle": "2022-01-28T23:58:15.979220Z",
     "shell.execute_reply": "2022-01-28T23:58:15.979919Z",
     "shell.execute_reply.started": "2022-01-28T22:03:29.288463Z"
    },
    "papermill": {
     "duration": 0.317373,
     "end_time": "2022-01-28T23:58:15.980070",
     "exception": false,
     "start_time": "2022-01-28T23:58:15.662697",
     "status": "completed"
    },
    "tags": []
   },
   "outputs": [
    {
     "data": {
      "text/plain": [
       "<matplotlib.image.AxesImage at 0x7f9015350c50>"
      ]
     },
     "execution_count": 16,
     "metadata": {},
     "output_type": "execute_result"
    },
    {
     "data": {
      "image/png": "[encoded data removed]",
      "text/plain": [
       "<Figure size 432x288 with 1 Axes>"
      ]
     },
     "metadata": {
      "needs_background": "light"
     },
     "output_type": "display_data"
    }
   ],
   "source": [
    "%matplotlib inline\n",
    "plt.imshow(X_train_2D[0][:,:,0])"
   ]
  },
  {
   "cell_type": "code",
   "execution_count": 17,
   "id": "cb6ac3ba",
   "metadata": {
    "execution": {
     "iopub.execute_input": "2022-01-28T23:58:16.215813Z",
     "iopub.status.busy": "2022-01-28T23:58:16.215042Z",
     "iopub.status.idle": "2022-01-28T23:58:16.217847Z",
     "shell.execute_reply": "2022-01-28T23:58:16.217388Z",
     "shell.execute_reply.started": "2022-01-28T21:17:10.246956Z"
    },
    "papermill": {
     "duration": 0.124812,
     "end_time": "2022-01-28T23:58:16.217976",
     "exception": false,
     "start_time": "2022-01-28T23:58:16.093164",
     "status": "completed"
    },
    "tags": []
   },
   "outputs": [],
   "source": [
    "#Let's write a function that does all of the model building, training and validation and allows us to change the number\n",
    "#of dense layers easily.\n",
    "\n",
    "def model(n: int, v: list, b: int, e: int):\n",
    "    \n",
    "    \"\"\"\n",
    "    Returns the trained NN for the digit recognition problem. The variables are: number of hidden layers, a list of length\n",
    "    n giving the number of nodes per layer, the batch number and the number of epochs.\n",
    "    \"\"\"\n",
    "    \n",
    "    model = keras.Sequential()\n",
    "    model.add(Conv2D(32, (5,5), input_shape=(28,28,1), activation='relu'))\n",
    "    model.add(MaxPooling2D(pool_size=(2,2) ))\n",
    "    model.add(Dropout(0.2))\n",
    "    model.add(Flatten())\n",
    "    #Now we add n hidden layers, with number of nodes determined by v.\n",
    "    for i in range(0,n):\n",
    "        model.add(layers.Dense(v[i], activation='relu'))\n",
    "    \n",
    "    model.add(layers.Dense(10, activation='softmax'))\n",
    "    \n",
    "    model.compile(\n",
    "    optimizer='adam',\n",
    "    loss='categorical_crossentropy',\n",
    "    metrics=['accuracy'],\n",
    "    )\n",
    "    \n",
    "    history = model.fit(\n",
    "    X_train_2D, y_train_2D,\n",
    "    validation_data=(X_valid_2D, y_valid_2D),\n",
    "    batch_size=b,\n",
    "    epochs=e,\n",
    "    )\n",
    "    \n",
    "    history_df = pd.DataFrame(history.history)\n",
    "    # Start the plot at epoch 5\n",
    "    history_df.loc[5:, ['loss', 'val_loss']].plot()\n",
    "    history_df.loc[5:, ['accuracy', 'val_accuracy']].plot()\n",
    "\n",
    "    print((\"Best Validation Loss: {:0.4f}\" +\\\n",
    "          \"\\nBest Validation Accuracy: {:0.4f}\")\\\n",
    "          .format(history_df['val_loss'].min(), \n",
    "                  history_df['val_accuracy'].max()))\n",
    "    \n",
    "    return model\n",
    "\n",
    "\n",
    "def submission(model, test):\n",
    "    \"\"\"\n",
    "    Given a trained model and test data, outputs the results as a dataframe.\n",
    "    \"\"\"\n",
    "    pred = model.predict(test).argmax(axis=-1)\n",
    "    pred = pred.tolist()\n",
    "    sub = sample.copy()\n",
    "    sub[\"Label\"] = pred\n",
    "    return sub"
   ]
  },
  {
   "cell_type": "code",
   "execution_count": 18,
   "id": "2879a010",
   "metadata": {
    "execution": {
     "iopub.execute_input": "2022-01-28T23:58:16.448650Z",
     "iopub.status.busy": "2022-01-28T23:58:16.447829Z",
     "iopub.status.idle": "2022-01-28T23:58:59.228163Z",
     "shell.execute_reply": "2022-01-28T23:58:59.225586Z",
     "shell.execute_reply.started": "2022-01-28T21:18:11.650541Z"
    },
    "papermill": {
     "duration": 42.898575,
     "end_time": "2022-01-28T23:58:59.228344",
     "exception": false,
     "start_time": "2022-01-28T23:58:16.329769",
     "status": "completed"
    },
    "tags": []
   },
   "outputs": [
    {
     "name": "stdout",
     "output_type": "stream",
     "text": [
      "Epoch 1/30\n"
     ]
    },
    {
     "name": "stderr",
     "output_type": "stream",
     "text": [
      "2022-01-28 23:58:18.022417: I tensorflow/stream_executor/cuda/cuda_dnn.cc:369] Loaded cuDNN version 8005\n"
     ]
    },
    {
     "name": "stdout",
     "output_type": "stream",
     "text": [
      "70/70 [==============================] - 6s 10ms/step - loss: 0.5044 - accuracy: 0.8405 - val_loss: 0.1626 - val_accuracy: 0.9496\n",
      "Epoch 2/30\n",
      "70/70 [==============================] - 1s 7ms/step - loss: 0.1057 - accuracy: 0.9671 - val_loss: 0.0833 - val_accuracy: 0.9751\n",
      "Epoch 3/30\n",
      "70/70 [==============================] - 1s 7ms/step - loss: 0.0611 - accuracy: 0.9810 - val_loss: 0.0580 - val_accuracy: 0.9829\n",
      "Epoch 4/30\n",
      "70/70 [==============================] - 1s 7ms/step - loss: 0.0437 - accuracy: 0.9862 - val_loss: 0.0679 - val_accuracy: 0.9796\n",
      "Epoch 5/30\n",
      "70/70 [==============================] - 1s 8ms/step - loss: 0.0319 - accuracy: 0.9904 - val_loss: 0.0585 - val_accuracy: 0.9821\n",
      "Epoch 6/30\n",
      "70/70 [==============================] - 1s 9ms/step - loss: 0.0235 - accuracy: 0.9921 - val_loss: 0.0631 - val_accuracy: 0.9817\n",
      "Epoch 7/30\n",
      "70/70 [==============================] - 1s 8ms/step - loss: 0.0220 - accuracy: 0.9926 - val_loss: 0.0471 - val_accuracy: 0.9869\n",
      "Epoch 8/30\n",
      "70/70 [==============================] - 1s 7ms/step - loss: 0.0163 - accuracy: 0.9946 - val_loss: 0.0463 - val_accuracy: 0.9863\n",
      "Epoch 9/30\n",
      "70/70 [==============================] - 1s 7ms/step - loss: 0.0135 - accuracy: 0.9954 - val_loss: 0.0516 - val_accuracy: 0.9859\n",
      "Epoch 10/30\n",
      "70/70 [==============================] - 1s 7ms/step - loss: 0.0168 - accuracy: 0.9942 - val_loss: 0.0593 - val_accuracy: 0.9849\n",
      "Epoch 11/30\n",
      "70/70 [==============================] - 1s 7ms/step - loss: 0.0146 - accuracy: 0.9955 - val_loss: 0.0562 - val_accuracy: 0.9860\n",
      "Epoch 12/30\n",
      "70/70 [==============================] - 1s 8ms/step - loss: 0.0100 - accuracy: 0.9968 - val_loss: 0.0581 - val_accuracy: 0.9857\n",
      "Epoch 13/30\n",
      "70/70 [==============================] - 1s 8ms/step - loss: 0.0083 - accuracy: 0.9973 - val_loss: 0.0606 - val_accuracy: 0.9860\n",
      "Epoch 14/30\n",
      "70/70 [==============================] - 1s 7ms/step - loss: 0.0081 - accuracy: 0.9973 - val_loss: 0.0665 - val_accuracy: 0.9843\n",
      "Epoch 15/30\n",
      "70/70 [==============================] - 1s 8ms/step - loss: 0.0083 - accuracy: 0.9973 - val_loss: 0.0653 - val_accuracy: 0.9869\n",
      "Epoch 16/30\n",
      "70/70 [==============================] - 1s 8ms/step - loss: 0.0124 - accuracy: 0.9961 - val_loss: 0.0557 - val_accuracy: 0.9869\n",
      "Epoch 17/30\n",
      "70/70 [==============================] - 1s 7ms/step - loss: 0.0054 - accuracy: 0.9983 - val_loss: 0.0580 - val_accuracy: 0.9869\n",
      "Epoch 18/30\n",
      "70/70 [==============================] - 1s 7ms/step - loss: 0.0051 - accuracy: 0.9984 - val_loss: 0.0615 - val_accuracy: 0.9871\n",
      "Epoch 19/30\n",
      "70/70 [==============================] - 1s 7ms/step - loss: 0.0054 - accuracy: 0.9981 - val_loss: 0.0542 - val_accuracy: 0.9874\n",
      "Epoch 20/30\n",
      "70/70 [==============================] - 1s 7ms/step - loss: 0.0058 - accuracy: 0.9980 - val_loss: 0.0728 - val_accuracy: 0.9847\n",
      "Epoch 21/30\n",
      "70/70 [==============================] - 1s 8ms/step - loss: 0.0055 - accuracy: 0.9981 - val_loss: 0.0636 - val_accuracy: 0.9856\n",
      "Epoch 22/30\n",
      "70/70 [==============================] - 1s 8ms/step - loss: 0.0051 - accuracy: 0.9985 - val_loss: 0.0743 - val_accuracy: 0.9856\n",
      "Epoch 23/30\n",
      "70/70 [==============================] - 1s 8ms/step - loss: 0.0094 - accuracy: 0.9969 - val_loss: 0.0612 - val_accuracy: 0.9873\n",
      "Epoch 24/30\n",
      "70/70 [==============================] - 1s 7ms/step - loss: 0.0049 - accuracy: 0.9984 - val_loss: 0.0599 - val_accuracy: 0.9864\n",
      "Epoch 25/30\n",
      "70/70 [==============================] - 1s 7ms/step - loss: 0.0051 - accuracy: 0.9983 - val_loss: 0.0619 - val_accuracy: 0.9860\n",
      "Epoch 26/30\n",
      "70/70 [==============================] - 1s 7ms/step - loss: 0.0041 - accuracy: 0.9987 - val_loss: 0.0944 - val_accuracy: 0.9799\n",
      "Epoch 27/30\n",
      "70/70 [==============================] - 1s 10ms/step - loss: 0.0067 - accuracy: 0.9979 - val_loss: 0.0625 - val_accuracy: 0.9870\n",
      "Epoch 28/30\n",
      "70/70 [==============================] - 1s 10ms/step - loss: 0.0053 - accuracy: 0.9982 - val_loss: 0.0663 - val_accuracy: 0.9877\n",
      "Epoch 29/30\n",
      "70/70 [==============================] - 1s 8ms/step - loss: 0.0064 - accuracy: 0.9982 - val_loss: 0.0576 - val_accuracy: 0.9874\n",
      "Epoch 30/30\n",
      "70/70 [==============================] - 1s 7ms/step - loss: 0.0034 - accuracy: 0.9990 - val_loss: 0.0654 - val_accuracy: 0.9867\n",
      "Best Validation Loss: 0.0463\n",
      "Best Validation Accuracy: 0.9877\n"
     ]
    },
    {
     "data": {
      "image/png": "[encoded data removed]",
      "text/plain": [
       "<Figure size 432x288 with 1 Axes>"
      ]
     },
     "metadata": {
      "needs_background": "light"
     },
     "output_type": "display_data"
    },
    {
     "data": {
      "image/png": "[encoded data removed]",
      "text/plain": [
       "<Figure size 432x288 with 1 Axes>"
      ]
     },
     "metadata": {
      "needs_background": "light"
     },
     "output_type": "display_data"
    }
   ],
   "source": [
    "model5 = model(6, [600, 500, 400, 300,200,100], 500, 30)"
   ]
  },
  {
   "cell_type": "code",
   "execution_count": 19,
   "id": "b5dc89e0",
   "metadata": {
    "execution": {
     "iopub.execute_input": "2022-01-28T23:58:59.702725Z",
     "iopub.status.busy": "2022-01-28T23:58:59.701780Z",
     "iopub.status.idle": "2022-01-28T23:59:00.997652Z",
     "shell.execute_reply": "2022-01-28T23:59:00.997089Z",
     "shell.execute_reply.started": "2022-01-28T21:24:51.729640Z"
    },
    "papermill": {
     "duration": 1.498013,
     "end_time": "2022-01-28T23:59:00.997784",
     "exception": false,
     "start_time": "2022-01-28T23:58:59.499771",
     "status": "completed"
    },
    "tags": []
   },
   "outputs": [],
   "source": [
    "submission(model5, test_2D).to_csv(\"sub5\", index=False) #0.98453, much better than simple models above. \n",
    "#To improve further, we could try augmenting the data to reduce overfitting problems..."
   ]
  }
 ],
 "metadata": {
  "kernelspec": {
   "display_name": "Python 3",
   "language": "python",
   "name": "python3"
  },
  "language_info": {
   "codemirror_mode": {
    "name": "ipython",
    "version": 3
   },
   "file_extension": ".py",
   "mimetype": "text/x-python",
   "name": "python",
   "nbconvert_exporter": "python",
   "pygments_lexer": "ipython3",
   "version": "3.7.12"
  },
  "papermill": {
   "default_parameters": {},
   "duration": 103.443776,
   "end_time": "2022-01-28T23:59:04.408010",
   "environment_variables": {},
   "exception": null,
   "input_path": "__notebook__.ipynb",
   "output_path": "__notebook__.ipynb",
   "parameters": {},
   "start_time": "2022-01-28T23:57:20.964234",
   "version": "2.3.3"
  }
 },
 "nbformat": 4,
 "nbformat_minor": 5
}
